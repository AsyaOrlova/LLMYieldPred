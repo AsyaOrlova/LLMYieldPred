{
  "cells": [
    {
      "cell_type": "markdown",
      "metadata": {},
      "source": [
        "# Prompting strategy for the ORD-R dataset"
      ]
    },
    {
      "cell_type": "code",
      "execution_count": 1,
      "metadata": {
        "id": "_5LQ8fb7S1uQ"
      },
      "outputs": [],
      "source": [
        "import matplotlib.pyplot as plt\n",
        "import pandas as pd\n",
        "import numpy as np"
      ]
    },
    {
      "cell_type": "code",
      "execution_count": 2,
      "metadata": {},
      "outputs": [
        {
          "data": {
            "text/html": [
              "<div>\n",
              "<style scoped>\n",
              "    .dataframe tbody tr th:only-of-type {\n",
              "        vertical-align: middle;\n",
              "    }\n",
              "\n",
              "    .dataframe tbody tr th {\n",
              "        vertical-align: top;\n",
              "    }\n",
              "\n",
              "    .dataframe thead th {\n",
              "        text-align: right;\n",
              "    }\n",
              "</style>\n",
              "<table border=\"1\" class=\"dataframe\">\n",
              "  <thead>\n",
              "    <tr style=\"text-align: right;\">\n",
              "      <th></th>\n",
              "      <th>provider</th>\n",
              "      <th>engine</th>\n",
              "      <th>sampler</th>\n",
              "      <th>n_for_train</th>\n",
              "      <th>seed</th>\n",
              "      <th>dataset</th>\n",
              "      <th>accuracy</th>\n",
              "      <th>precision</th>\n",
              "      <th>recall</th>\n",
              "      <th>f1</th>\n",
              "    </tr>\n",
              "  </thead>\n",
              "  <tbody>\n",
              "    <tr>\n",
              "      <th>0</th>\n",
              "      <td>anthropic</td>\n",
              "      <td>claude-3-haiku-20240307</td>\n",
              "      <td>random</td>\n",
              "      <td>4</td>\n",
              "      <td>36</td>\n",
              "      <td>data/ORD_R_text.csv</td>\n",
              "      <td>0.51</td>\n",
              "      <td>0.493151</td>\n",
              "      <td>0.7500</td>\n",
              "      <td>0.595041</td>\n",
              "    </tr>\n",
              "    <tr>\n",
              "      <th>1</th>\n",
              "      <td>anthropic</td>\n",
              "      <td>claude-3-haiku-20240307</td>\n",
              "      <td>random</td>\n",
              "      <td>4</td>\n",
              "      <td>42</td>\n",
              "      <td>data/ORD_R_text.csv</td>\n",
              "      <td>0.50</td>\n",
              "      <td>0.489130</td>\n",
              "      <td>0.9375</td>\n",
              "      <td>0.642857</td>\n",
              "    </tr>\n",
              "    <tr>\n",
              "      <th>2</th>\n",
              "      <td>anthropic</td>\n",
              "      <td>claude-3-haiku-20240307</td>\n",
              "      <td>random</td>\n",
              "      <td>4</td>\n",
              "      <td>84</td>\n",
              "      <td>data/ORD_R_text.csv</td>\n",
              "      <td>0.59</td>\n",
              "      <td>0.600000</td>\n",
              "      <td>0.4375</td>\n",
              "      <td>0.506024</td>\n",
              "    </tr>\n",
              "    <tr>\n",
              "      <th>3</th>\n",
              "      <td>anthropic</td>\n",
              "      <td>claude-3-haiku-20240307</td>\n",
              "      <td>random</td>\n",
              "      <td>4</td>\n",
              "      <td>200</td>\n",
              "      <td>data/ORD_R_text.csv</td>\n",
              "      <td>0.50</td>\n",
              "      <td>0.482143</td>\n",
              "      <td>0.5625</td>\n",
              "      <td>0.519231</td>\n",
              "    </tr>\n",
              "    <tr>\n",
              "      <th>4</th>\n",
              "      <td>anthropic</td>\n",
              "      <td>claude-3-haiku-20240307</td>\n",
              "      <td>random</td>\n",
              "      <td>4</td>\n",
              "      <td>12345</td>\n",
              "      <td>data/ORD_R_text.csv</td>\n",
              "      <td>0.54</td>\n",
              "      <td>0.521739</td>\n",
              "      <td>0.5000</td>\n",
              "      <td>0.510638</td>\n",
              "    </tr>\n",
              "  </tbody>\n",
              "</table>\n",
              "</div>"
            ],
            "text/plain": [
              "    provider                   engine sampler  n_for_train   seed  \\\n",
              "0  anthropic  claude-3-haiku-20240307  random            4     36   \n",
              "1  anthropic  claude-3-haiku-20240307  random            4     42   \n",
              "2  anthropic  claude-3-haiku-20240307  random            4     84   \n",
              "3  anthropic  claude-3-haiku-20240307  random            4    200   \n",
              "4  anthropic  claude-3-haiku-20240307  random            4  12345   \n",
              "\n",
              "               dataset  accuracy  precision  recall        f1  \n",
              "0  data/ORD_R_text.csv      0.51   0.493151  0.7500  0.595041  \n",
              "1  data/ORD_R_text.csv      0.50   0.489130  0.9375  0.642857  \n",
              "2  data/ORD_R_text.csv      0.59   0.600000  0.4375  0.506024  \n",
              "3  data/ORD_R_text.csv      0.50   0.482143  0.5625  0.519231  \n",
              "4  data/ORD_R_text.csv      0.54   0.521739  0.5000  0.510638  "
            ]
          },
          "execution_count": 2,
          "metadata": {},
          "output_type": "execute_result"
        }
      ],
      "source": [
        "df = pd.read_csv('ord_r_metrics.csv')\n",
        "df.head()"
      ]
    },
    {
      "cell_type": "code",
      "execution_count": 3,
      "metadata": {},
      "outputs": [],
      "source": [
        "df.drop(columns=['provider', 'sampler', 'seed', 'dataset', 'precision', 'recall'], inplace=True)"
      ]
    },
    {
      "cell_type": "code",
      "execution_count": 4,
      "metadata": {},
      "outputs": [
        {
          "data": {
            "text/html": [
              "<div>\n",
              "<style scoped>\n",
              "    .dataframe tbody tr th:only-of-type {\n",
              "        vertical-align: middle;\n",
              "    }\n",
              "\n",
              "    .dataframe tbody tr th {\n",
              "        vertical-align: top;\n",
              "    }\n",
              "\n",
              "    .dataframe thead th {\n",
              "        text-align: right;\n",
              "    }\n",
              "</style>\n",
              "<table border=\"1\" class=\"dataframe\">\n",
              "  <thead>\n",
              "    <tr style=\"text-align: right;\">\n",
              "      <th></th>\n",
              "      <th>engine</th>\n",
              "      <th>n_for_train</th>\n",
              "      <th>accuracy_mean</th>\n",
              "      <th>f1_mean</th>\n",
              "      <th>accuracy_std</th>\n",
              "      <th>f1_std</th>\n",
              "    </tr>\n",
              "  </thead>\n",
              "  <tbody>\n",
              "    <tr>\n",
              "      <th>0</th>\n",
              "      <td>claude-3-haiku-20240307</td>\n",
              "      <td>4</td>\n",
              "      <td>0.528</td>\n",
              "      <td>0.554758</td>\n",
              "      <td>0.038341</td>\n",
              "      <td>0.061172</td>\n",
              "    </tr>\n",
              "    <tr>\n",
              "      <th>1</th>\n",
              "      <td>claude-3-haiku-20240307</td>\n",
              "      <td>6</td>\n",
              "      <td>0.502</td>\n",
              "      <td>0.572402</td>\n",
              "      <td>0.026833</td>\n",
              "      <td>0.036206</td>\n",
              "    </tr>\n",
              "    <tr>\n",
              "      <th>2</th>\n",
              "      <td>claude-3-haiku-20240307</td>\n",
              "      <td>8</td>\n",
              "      <td>0.542</td>\n",
              "      <td>0.589358</td>\n",
              "      <td>0.055408</td>\n",
              "      <td>0.077058</td>\n",
              "    </tr>\n",
              "    <tr>\n",
              "      <th>3</th>\n",
              "      <td>mistral-large-latest</td>\n",
              "      <td>4</td>\n",
              "      <td>0.524</td>\n",
              "      <td>0.453690</td>\n",
              "      <td>0.047749</td>\n",
              "      <td>0.063734</td>\n",
              "    </tr>\n",
              "    <tr>\n",
              "      <th>4</th>\n",
              "      <td>mistral-large-latest</td>\n",
              "      <td>6</td>\n",
              "      <td>0.544</td>\n",
              "      <td>0.449829</td>\n",
              "      <td>0.027019</td>\n",
              "      <td>0.068486</td>\n",
              "    </tr>\n",
              "    <tr>\n",
              "      <th>5</th>\n",
              "      <td>mistral-large-latest</td>\n",
              "      <td>8</td>\n",
              "      <td>0.530</td>\n",
              "      <td>0.462692</td>\n",
              "      <td>0.040000</td>\n",
              "      <td>0.142792</td>\n",
              "    </tr>\n",
              "    <tr>\n",
              "      <th>6</th>\n",
              "      <td>mistral-small-latest</td>\n",
              "      <td>4</td>\n",
              "      <td>0.512</td>\n",
              "      <td>0.501487</td>\n",
              "      <td>0.025884</td>\n",
              "      <td>0.056742</td>\n",
              "    </tr>\n",
              "    <tr>\n",
              "      <th>7</th>\n",
              "      <td>mistral-small-latest</td>\n",
              "      <td>6</td>\n",
              "      <td>0.532</td>\n",
              "      <td>0.460380</td>\n",
              "      <td>0.043243</td>\n",
              "      <td>0.030902</td>\n",
              "    </tr>\n",
              "    <tr>\n",
              "      <th>8</th>\n",
              "      <td>mistral-small-latest</td>\n",
              "      <td>8</td>\n",
              "      <td>0.518</td>\n",
              "      <td>0.472787</td>\n",
              "      <td>0.027749</td>\n",
              "      <td>0.075809</td>\n",
              "    </tr>\n",
              "  </tbody>\n",
              "</table>\n",
              "</div>"
            ],
            "text/plain": [
              "                    engine  n_for_train  accuracy_mean   f1_mean  \\\n",
              "0  claude-3-haiku-20240307            4          0.528  0.554758   \n",
              "1  claude-3-haiku-20240307            6          0.502  0.572402   \n",
              "2  claude-3-haiku-20240307            8          0.542  0.589358   \n",
              "3     mistral-large-latest            4          0.524  0.453690   \n",
              "4     mistral-large-latest            6          0.544  0.449829   \n",
              "5     mistral-large-latest            8          0.530  0.462692   \n",
              "6     mistral-small-latest            4          0.512  0.501487   \n",
              "7     mistral-small-latest            6          0.532  0.460380   \n",
              "8     mistral-small-latest            8          0.518  0.472787   \n",
              "\n",
              "   accuracy_std    f1_std  \n",
              "0      0.038341  0.061172  \n",
              "1      0.026833  0.036206  \n",
              "2      0.055408  0.077058  \n",
              "3      0.047749  0.063734  \n",
              "4      0.027019  0.068486  \n",
              "5      0.040000  0.142792  \n",
              "6      0.025884  0.056742  \n",
              "7      0.043243  0.030902  \n",
              "8      0.027749  0.075809  "
            ]
          },
          "execution_count": 4,
          "metadata": {},
          "output_type": "execute_result"
        }
      ],
      "source": [
        "df_mean = df.groupby(by=['engine', 'n_for_train']).mean().reset_index().rename(columns={'accuracy': 'accuracy_mean', 'f1': 'f1_mean'})\n",
        "df_std = df.groupby(by=['engine', 'n_for_train']).std().reset_index().rename(columns={'accuracy': 'accuracy_std', 'f1': 'f1_std'})\n",
        "df_all = df_mean.merge(df_std, on=['engine', 'n_for_train'])\n",
        "df_all"
      ]
    },
    {
      "cell_type": "code",
      "execution_count": 5,
      "metadata": {
        "id": "LWUrrtYjWxMt"
      },
      "outputs": [],
      "source": [
        "c3h_a = df_all[df_all.engine=='claude-3-haiku-20240307'].accuracy_mean\n",
        "c3h_a_err = df_all[df_all.engine=='claude-3-haiku-20240307'].accuracy_std\n",
        "\n",
        "ms_a = df_all[df_all.engine=='mistral-small-latest'].accuracy_mean\n",
        "ms_a_err = df_all[df_all.engine=='mistral-small-latest'].accuracy_std\n",
        "\n",
        "ml_a = df_all[df_all.engine=='mistral-large-latest'].accuracy_mean\n",
        "ml_a_err = df_all[df_all.engine=='mistral-large-latest'].accuracy_std\n",
        "\n",
        "c3h_f1 = df_all[df_all.engine=='claude-3-haiku-20240307'].f1_mean\n",
        "c3h_f1_err = df_all[df_all.engine=='claude-3-haiku-20240307'].f1_std\n",
        "\n",
        "ml_f1 = df_all[df_all.engine=='mistral-large-latest'].f1_mean\n",
        "ml_f1_err = df_all[df_all.engine=='mistral-large-latest'].f1_std\n",
        "\n",
        "ms_f1 = df_all[df_all.engine=='mistral-small-latest'].f1_mean\n",
        "ms_f1_err = df_all[df_all.engine=='mistral-small-latest'].f1_std"
      ]
    },
    {
      "cell_type": "code",
      "execution_count": 6,
      "metadata": {},
      "outputs": [
        {
          "data": {
            "image/png": "[encoded data removed]",
            "text/plain": [
              "<Figure size 600x400 with 1 Axes>"
            ]
          },
          "metadata": {},
          "output_type": "display_data"
        }
      ],
      "source": [
        "fig, ax = plt.subplots(figsize=(6, 4))\n",
        "width = 0.4\n",
        "fake_llm = np.array([4, 6, 8])\n",
        "\n",
        "plt.bar(fake_llm-width, c3h_f1, width, label='k=4', color='#9ecae1')\n",
        "ax.errorbar(fake_llm-width, c3h_f1, yerr=c3h_f1_err, alpha=0.5, ecolor='black', capsize=10, linestyle='none')\n",
        "\n",
        "plt.bar(fake_llm, ms_f1, width, label='k=6', color='#6baed6')\n",
        "ax.errorbar(fake_llm, ms_f1, yerr=ms_f1_err, alpha=0.5, ecolor='black', capsize=10, linestyle='none')\n",
        "\n",
        "plt.bar(fake_llm+width, ml_f1, width, label='k=8', color='#3182bd')\n",
        "ax.errorbar(fake_llm+width, ml_f1, yerr=ml_f1_err, alpha=0.5, ecolor='black', capsize=10, linestyle='none')\n",
        "\n",
        "plt.xticks(fake_llm, ['Claude 3 Haiku', 'Mistral Small', 'Mistral Large'])\n",
        "plt.ylabel(\"F1-score\")\n",
        "plt.legend(loc='upper left', ncol=3)\n",
        "plt.ylim(0, 0.7)\n",
        "\n",
        "#plt.savefig('ord_r_f1.jpg', format='jpg', dpi=700, bbox_inches='tight')\n",
        "plt.show()"
      ]
    },
    {
      "cell_type": "code",
      "execution_count": 7,
      "metadata": {
        "colab": {
          "base_uri": "https://localhost:8080/",
          "height": 374
        },
        "id": "hnBVs_QFji1Z",
        "outputId": "4258af51-46fc-43ff-8b39-812d87ebd17a"
      },
      "outputs": [
        {
          "data": {
            "image/png": "[encoded data removed]",
            "text/plain": [
              "<Figure size 600x400 with 1 Axes>"
            ]
          },
          "metadata": {},
          "output_type": "display_data"
        }
      ],
      "source": [
        "fig, ax = plt.subplots(figsize=(6, 4))\n",
        "width = 0.4\n",
        "fake_llm = np.array([4, 6, 8])\n",
        "\n",
        "plt.bar(fake_llm-width, c3h_a, width, label='k=4', color='#a1d99b')\n",
        "ax.errorbar(fake_llm-width, c3h_a, yerr=c3h_a_err, alpha=0.5, ecolor='black', capsize=10, linestyle='none')\n",
        "\n",
        "plt.bar(fake_llm, ms_a, width, label='k=6', color='#74c476')\n",
        "ax.errorbar(fake_llm, ms_a, yerr=ms_a_err, alpha=0.5, ecolor='black', capsize=10, linestyle='none')\n",
        "\n",
        "plt.bar(fake_llm+width, ml_a, width, label='k=8', color='#31a354')\n",
        "ax.errorbar(fake_llm+width, ml_a, yerr=ml_a_err, alpha=0.5, ecolor='black', capsize=10, linestyle='none')\n",
        "\n",
        "plt.xticks(fake_llm, ['Claude 3 Haiku', 'Mistral Small', 'Mistral Large'])\n",
        "plt.ylabel(\"Accuracy\")\n",
        "plt.legend(loc='upper left', ncol=3)\n",
        "plt.ylim(0, 0.7)\n",
        "\n",
        "#plt.savefig('ord_r_acc.jpg', format='jpg', dpi=700, bbox_inches='tight')\n",
        "plt.show()"
      ]
    }
  ],
  "metadata": {
    "colab": {
      "provenance": []
    },
    "kernelspec": {
      "display_name": "Python 3",
      "name": "python3"
    },
    "language_info": {
      "codemirror_mode": {
        "name": "ipython",
        "version": 3
      },
      "file_extension": ".py",
      "mimetype": "text/x-python",
      "name": "python",
      "nbconvert_exporter": "python",
      "pygments_lexer": "ipython3",
      "version": "3.11.5"
    }
  },
  "nbformat": 4,
  "nbformat_minor": 0
}
