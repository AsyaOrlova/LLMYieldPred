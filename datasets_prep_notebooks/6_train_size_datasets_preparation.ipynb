{
 "cells": [
  {
   "cell_type": "code",
   "execution_count": null,
   "metadata": {},
   "outputs": [],
   "source": [
    "import pandas as pd"
   ]
  },
  {
   "cell_type": "code",
   "execution_count": null,
   "metadata": {},
   "outputs": [],
   "source": [
    "df_uspto_r = pd.read_csv('USPTO_R_text.csv')"
   ]
  },
  {
   "cell_type": "code",
   "execution_count": null,
   "metadata": {},
   "outputs": [],
   "source": [
    "df_train = df_uspto_r[df_uspto_r.split=='train']\n",
    "df_test = df_uspto_r[df_uspto_r.split=='test']"
   ]
  },
  {
   "cell_type": "code",
   "execution_count": null,
   "metadata": {},
   "outputs": [],
   "source": [
    "for i in [5450, 2725, 1362, 681]:\n",
    "    df_new_train = df_train.sample(i, random_state=42)\n",
    "    df_new = pd.concat([df_new_train, df_test])\n",
    "    df_new.to_csv(f'USPTO_R_text_{i}.csv', index=False)"
   ]
  }
 ],
 "metadata": {
  "language_info": {
   "name": "python"
  }
 },
 "nbformat": 4,
 "nbformat_minor": 2
}
